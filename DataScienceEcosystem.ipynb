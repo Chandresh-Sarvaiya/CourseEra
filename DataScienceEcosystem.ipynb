{
 "cells": [
  {
   "cell_type": "markdown",
   "id": "816ff692-3409-433d-95cd-637725311525",
   "metadata": {},
   "source": [
    "# Data Science Tools and Ecosystem"
   ]
  },
  {
   "cell_type": "markdown",
   "id": "fb41bd63-1c4d-4b73-9c8b-06c59816134a",
   "metadata": {},
   "source": [
    "## In this notebook, Data Science Tools and Ecosystem are summarized."
   ]
  },
  {
   "cell_type": "markdown",
   "id": "5377836c-58ba-44a2-a353-586ecfb3b3b8",
   "metadata": {},
   "source": [
    "**Objectives:**\n",
    "- List popular languages for Data Science\n",
    "- List Commonly used libraries for Data Science\n",
    "- Arithmetic Examples"
   ]
  },
  {
   "cell_type": "markdown",
   "id": "9609feec-4688-49d3-9280-ce8181361406",
   "metadata": {},
   "source": [
    "#### Some of the popular languages that Data Scientists use are:\n",
    "1. Python\n",
    "2. R\n",
    "3. SQL"
   ]
  },
  {
   "cell_type": "markdown",
   "id": "d615001c-bc63-4ee8-9c0e-ae1f8250627a",
   "metadata": {},
   "source": [
    "#### Some of the commonly used libraries used by Data Scientists include:\n",
    "1. Pandas\n",
    "2. Matplotlib\n",
    "3. Numpy\n",
    "   "
   ]
  },
  {
   "cell_type": "markdown",
   "id": "31c02073-c459-4975-a8d7-42ba94369046",
   "metadata": {},
   "source": [
    "| Data Science Tools |\n",
    "|-----------|\n",
    "| RStudio |\n",
    "| Jupyter Notebook |\n",
    "| PyCharm |"
   ]
  },
  {
   "cell_type": "markdown",
   "id": "2215a3e8-8c66-474d-a612-32248573aafc",
   "metadata": {},
   "source": [
    "### Below are a few examples of evaluating arithmetic expressions in Python"
   ]
  },
  {
   "cell_type": "code",
   "execution_count": 1,
   "id": "a37b7b0f-ed27-495f-96c8-701438e2aafb",
   "metadata": {},
   "outputs": [
    {
     "data": {
      "text/plain": [
       "17"
      ]
     },
     "execution_count": 1,
     "metadata": {},
     "output_type": "execute_result"
    }
   ],
   "source": [
    "#  This a simple arithmetic expression to mutiply then add integers\n",
    "(3*4)+5"
   ]
  },
  {
   "cell_type": "code",
   "execution_count": 2,
   "id": "4683878a-fd84-4f1e-9f3f-cb560bd0744d",
   "metadata": {},
   "outputs": [
    {
     "name": "stdout",
     "output_type": "stream",
     "text": [
      "3.3333333333333335\n"
     ]
    }
   ],
   "source": [
    "# This will convert 200 minutes to hours by diving by 60\n",
    "print(200/60)"
   ]
  },
  {
   "cell_type": "markdown",
   "id": "b46db907-93ca-4dc3-8b43-dfe9dfa6b286",
   "metadata": {},
   "source": [
    "## Author\n",
    "Chandresh Sarvaiya"
   ]
  },
  {
   "cell_type": "code",
   "execution_count": null,
   "id": "ba908891-a884-47ad-9495-d7c6a6953271",
   "metadata": {},
   "outputs": [],
   "source": []
  }
 ],
 "metadata": {
  "kernelspec": {
   "display_name": "Python 3 (ipykernel)",
   "language": "python",
   "name": "python3"
  },
  "language_info": {
   "codemirror_mode": {
    "name": "ipython",
    "version": 3
   },
   "file_extension": ".py",
   "mimetype": "text/x-python",
   "name": "python",
   "nbconvert_exporter": "python",
   "pygments_lexer": "ipython3",
   "version": "3.10.5"
  }
 },
 "nbformat": 4,
 "nbformat_minor": 5
}
